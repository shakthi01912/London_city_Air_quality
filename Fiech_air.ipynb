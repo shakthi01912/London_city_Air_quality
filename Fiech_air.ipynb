{
 "cells": [
  {
   "cell_type": "code",
   "execution_count": 1,
   "metadata": {},
   "outputs": [],
   "source": [
    "import requests\n",
    "import json\n",
    "import os\n",
    "from dotenv import load_dotenv\n",
    "import pandas as pd\n"
   ]
  },
  {
   "cell_type": "code",
   "execution_count": null,
   "metadata": {},
   "outputs": [],
   "source": [
    "load_dotenv()\n",
    "api_key = os.getenv('API_KEY')\n",
    "\n",
    "def fetch_air_quality_data(api_key, city):\n",
    "    url = f\"https://api.openaq.org/v1/measurements?city={city}&limit=10\"  \n",
    "    headers = {\"X-API-Key\": api_key}\n",
    "    \n",
    "  \n",
    "    response = requests.get(url, headers=headers)\n",
    "\n",
    "   \n",
    "    if response.status_code == 200:\n",
    "        data = response.json()\n",
    "        \n",
    "\n",
    "        if \"results\" in data and data[\"results\"]:\n",
    "            df = pd.DataFrame(data['results'])\n",
    "            print(df.head())\n",
    "      \n",
    "            if not os.path.exists('data'):\n",
    "                os.makedirs('data')\n",
    "            \n",
    "            # Save the JSON response to a file\n",
    "            with open(\"data/air_quality.json\", \"w\") as file:\n",
    "                json.dump(data, file, indent=4)\n",
    "            \n",
    "            print(\"Data successfully saved to data/air_quality.json\")\n",
    "            return data[\"results\"] \n",
    "        else:\n",
    "            print(\"No air quality data found in the response.\")\n",
    "            return None\n",
    "    else:\n",
    "        print(f\"Error fetching data: {response.status_code}\")\n",
    "        return None\n",
    "\n",
    "\n",
    "data = fetch_air_quality_data(api_key, \"London\")\n",
    "\n",
    "\n",
    "if data:\n",
    "    print(\"Fetched Data:\")\n",
    "    for item in data:\n",
    "        print(item) \n",
    "else:\n",
    "    print(\"No data fetched.\")"
   ]
  }
 ],
 "metadata": {
  "kernelspec": {
   "display_name": "venv",
   "language": "python",
   "name": "python3"
  },
  "language_info": {
   "codemirror_mode": {
    "name": "ipython",
    "version": 3
   },
   "file_extension": ".py",
   "mimetype": "text/x-python",
   "name": "python",
   "nbconvert_exporter": "python",
   "pygments_lexer": "ipython3",
   "version": "3.12.8"
  }
 },
 "nbformat": 4,
 "nbformat_minor": 2
}
